{
  "nbformat": 4,
  "nbformat_minor": 0,
  "metadata": {
    "colab": {
      "provenance": []
    },
    "kernelspec": {
      "name": "python3",
      "display_name": "Python 3"
    },
    "language_info": {
      "name": "python"
    }
  },
  "cells": [
    {
      "cell_type": "code",
      "execution_count": null,
      "metadata": {
        "id": "DvwVhN28SLPS"
      },
      "outputs": [],
      "source": [
        "import pandas as pd"
      ]
    },
    {
      "cell_type": "markdown",
      "source": [
        "## Criação do DataFrame de Vendas"
      ],
      "metadata": {
        "id": "aSPYmN2hVdmG"
      }
    },
    {
      "cell_type": "code",
      "source": [
        "datas = pd.to_datetime(['2025-05-13', '2025-05-14', '2025-05-15'])\n",
        "\n",
        "df = pd.DataFrame({\n",
        "    'id_venda': list(range(1, 21)),\n",
        "    'id_produto': [101, 102, 103, 104, 105] * 4,\n",
        "    'quantidade': [2, 1, 5, 3, 4, 1, 2, 1, 3, 2, 4, 1, 2, 3, 5, 2, 3, 4, 1, 2],\n",
        "    'preco_unitario': [2.50, 2.00, 3.50, 12.00, 8.00] * 4,\n",
        "    'data_venda':     [datas[i % len(datas)] for i in range(20)]\n",
        "})\n",
        "\n",
        "display(df)"
      ],
      "metadata": {
        "id": "--al4TRGVe4b"
      },
      "execution_count": null,
      "outputs": []
    },
    {
      "cell_type": "markdown",
      "source": [
        "## Explorando o DataFrame"
      ],
      "metadata": {
        "id": "WnTS4jb6Wb2w"
      }
    },
    {
      "cell_type": "markdown",
      "source": [
        "Métodos também existentes em objetos do tipo Series"
      ],
      "metadata": {
        "id": "KGE-NNGxafbv"
      }
    },
    {
      "cell_type": "code",
      "source": [
        "df.head(10)"
      ],
      "metadata": {
        "id": "gvJHvMsxWSBt"
      },
      "execution_count": null,
      "outputs": []
    },
    {
      "cell_type": "code",
      "source": [
        "df.tail()"
      ],
      "metadata": {
        "id": "Ytxs67MBWjbm"
      },
      "execution_count": null,
      "outputs": []
    },
    {
      "cell_type": "code",
      "source": [
        "df.info()"
      ],
      "metadata": {
        "id": "HtanqN-7WoRw"
      },
      "execution_count": null,
      "outputs": []
    },
    {
      "cell_type": "code",
      "source": [
        "df.describe()"
      ],
      "metadata": {
        "id": "11AEllzzWp5R"
      },
      "execution_count": null,
      "outputs": []
    },
    {
      "cell_type": "code",
      "source": [
        "df['id_venda']"
      ],
      "metadata": {
        "id": "RVtzeayNWzOK"
      },
      "execution_count": null,
      "outputs": []
    },
    {
      "cell_type": "code",
      "source": [
        "df[df['quantidade'] > 2]"
      ],
      "metadata": {
        "id": "ZSpWuwcZXdYn"
      },
      "execution_count": null,
      "outputs": []
    },
    {
      "cell_type": "code",
      "source": [
        "df['preco_unitario']/5.65"
      ],
      "metadata": {
        "id": "t1Lg9iYfXwzv"
      },
      "execution_count": null,
      "outputs": []
    },
    {
      "cell_type": "markdown",
      "source": [
        "## Podemos explorar o DataFrame e realizar operações nos dados"
      ],
      "metadata": {
        "id": "kwrIIpP-alTm"
      }
    },
    {
      "cell_type": "markdown",
      "source": [
        "Ordenar baseado em valor"
      ],
      "metadata": {
        "id": "1FIjujLnavQl"
      }
    },
    {
      "cell_type": "code",
      "source": [
        "df.sort_values(by = 'preco_unitario', ascending=False)"
      ],
      "metadata": {
        "id": "U1roJ1jZeQ0n"
      },
      "execution_count": null,
      "outputs": []
    },
    {
      "cell_type": "markdown",
      "source": [
        "Criar uma nova Serie/Coluna a partir de operações entre Series/Colunas existentes"
      ],
      "metadata": {
        "id": "GVZwD4z9ax9d"
      }
    },
    {
      "cell_type": "code",
      "source": [
        "df['quantidade_total'] = df['quantidade'] * df['preco_unitario']"
      ],
      "metadata": {
        "id": "981fKgrV2psy"
      },
      "execution_count": null,
      "outputs": []
    },
    {
      "cell_type": "markdown",
      "source": [
        "Uma boa prática ao trabalhar com tabelas em qualquer ambiente, é padronizar os nomes das colunas. Iremos utilizar camelCase e utilizar prefixo vl para campos de valor."
      ],
      "metadata": {
        "id": "UawOcR8Ca6a2"
      }
    },
    {
      "cell_type": "code",
      "source": [
        "map_rename = {'id_venda':'idVenda',\n",
        "              'id_produto':'idProduto',\n",
        "              'quantidade':'qtUnidades',\n",
        "              'preco_unitario':'vlPrecoUnitario',\n",
        "              'data_venda':'dtVenda',\n",
        "              'quantidade_total':'vlVenda'}"
      ],
      "metadata": {
        "id": "Ihq3jBs94p_s"
      },
      "execution_count": null,
      "outputs": []
    },
    {
      "cell_type": "markdown",
      "source": [
        "Usar inplace redefine o objeto dataframe, sem que seja necessário reatribuí-lo"
      ],
      "metadata": {
        "id": "_nqLjl6IbKfd"
      }
    },
    {
      "cell_type": "code",
      "source": [
        "df.rename(map_rename, axis = 1, inplace=True)"
      ],
      "metadata": {
        "id": "Lx3rDO0J3Hxc"
      },
      "execution_count": null,
      "outputs": []
    },
    {
      "cell_type": "markdown",
      "source": [
        "Podemos reordenar as colunas"
      ],
      "metadata": {
        "id": "mANSUrHMbRdk"
      }
    },
    {
      "cell_type": "code",
      "source": [
        "df = df[['idVenda','idProduto','vlPrecoUnitario','vlVenda','qtUnidades','dtVenda']]"
      ],
      "metadata": {
        "id": "oWjyNidJ6Iqw"
      },
      "execution_count": null,
      "outputs": []
    },
    {
      "cell_type": "code",
      "source": [
        "df"
      ],
      "metadata": {
        "id": "d1qsX2rJ31T1"
      },
      "execution_count": null,
      "outputs": []
    },
    {
      "cell_type": "code",
      "source": [
        "df.groupby('idProduto')['qtUnidades'].sum()"
      ],
      "metadata": {
        "id": "rcQ3V9ULefkT"
      },
      "execution_count": null,
      "outputs": []
    },
    {
      "cell_type": "markdown",
      "source": [
        "Podemos retornar amostras aleatorias de dados usando a biblioteca random"
      ],
      "metadata": {
        "id": "eC26qY8QbVSk"
      }
    },
    {
      "cell_type": "code",
      "source": [
        "import random"
      ],
      "metadata": {
        "id": "ngRVqmkE73_D"
      },
      "execution_count": null,
      "outputs": []
    },
    {
      "cell_type": "code",
      "source": [
        "n1 = random.randint(0,15)\n",
        "\n",
        "n2 = n1+4\n",
        "\n",
        "print(f'N1:{n1}, N2:{n2}')\n",
        "\n",
        "display(df.loc[n1:n2])"
      ],
      "metadata": {
        "id": "nyfWniG277wM"
      },
      "execution_count": null,
      "outputs": []
    },
    {
      "cell_type": "code",
      "source": [
        "df.loc[4,'idVenda'].item()"
      ],
      "metadata": {
        "id": "8Y5Rvb-xfZrm"
      },
      "execution_count": null,
      "outputs": []
    },
    {
      "cell_type": "code",
      "source": [
        "df.iloc[4,0]"
      ],
      "metadata": {
        "id": "w_zasC-Bf9wM"
      },
      "execution_count": null,
      "outputs": []
    },
    {
      "cell_type": "markdown",
      "source": [
        "## Trazendo um segundo Dataframe para enriquecer as informações de Vendas, vamos descobrir o nome dos produtos"
      ],
      "metadata": {
        "id": "_XDROA6AbsYs"
      }
    },
    {
      "cell_type": "code",
      "source": [
        "df_produtos = pd.DataFrame({\n",
        "    'idProduto': [101, 102, 103, 104, 105,106],\n",
        "    'nomeProduto': ['Caneta', 'Borracha', 'Apontador', 'Caderno', 'Marcador','Cartolina'],\n",
        "    'categoria':   ['Escrita', 'Escrita',  'Escrita',  'Papelaria', 'Papelaria','Cartolina']\n",
        "})\n",
        "df_produtos"
      ],
      "metadata": {
        "id": "6xI2O1b6gXP1"
      },
      "execution_count": null,
      "outputs": []
    },
    {
      "cell_type": "code",
      "source": [
        "df_merge = pd.merge(df, df_produtos, on='idProduto', how='left')\n",
        "df_merge.head()"
      ],
      "metadata": {
        "id": "rj57LhsZhC-u"
      },
      "execution_count": null,
      "outputs": []
    },
    {
      "cell_type": "code",
      "source": [
        "df_merge.groupby('categoria')['vlVenda'].sum()"
      ],
      "metadata": {
        "id": "nT_lnPGPhHsF"
      },
      "execution_count": null,
      "outputs": []
    },
    {
      "cell_type": "markdown",
      "source": [
        "Estatísticas básicas\n",
        "\n",
        "sum() – soma dos valores\n",
        "\n",
        "mean() – média aritmética\n",
        "\n",
        "median() – mediana\n",
        "\n",
        "min(), max() – valor mínimo e máximo\n",
        "\n",
        "count() – número de elementos não-nulos\n",
        "\n",
        "nunique() – número de valores únicos"
      ],
      "metadata": {
        "id": "utleabCdhXJx"
      }
    }
  ]
}